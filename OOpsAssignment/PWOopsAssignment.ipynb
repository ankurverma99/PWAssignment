{
 "cells": [
  {
   "cell_type": "code",
   "execution_count": null,
   "id": "6a0b46e7",
   "metadata": {},
   "outputs": [
    {
     "name": "stdout",
     "output_type": "stream",
     "text": [
      "This animal makes a sound.\n",
      "Bark!\n"
     ]
    }
   ],
   "source": [
    "#1. Create a parent class Animal with a method speak() that prints a generic message. Create a child class Dog that overrides the speak() method to print \"Bark!\".\n",
    "\n",
    "\n",
    "class Animal:\n",
    "    def speak(self):\n",
    "        print(\"This animal makes a sound.\")\n",
    "\n",
    "class Dog(Animal):\n",
    "    def speak(self):\n",
    "        print(\"Bark!\")\n",
    "\n",
    "\n",
    "a = Animal()\n",
    "a.speak()  \n",
    "\n",
    "d = Dog()\n",
    "d.speak()  \n"
   ]
  },
  {
   "cell_type": "code",
   "execution_count": null,
   "id": "7bbe10b1",
   "metadata": {},
   "outputs": [
    {
     "name": "stdout",
     "output_type": "stream",
     "text": [
      "Circle area: 78.54\n",
      "Rectangle area: 24.00\n"
     ]
    }
   ],
   "source": [
    "#2Write a program to create an abstract class Shape with a method area(). Derive classes Circle and Rectangle from it and implement the area() method in both.\n",
    "\n",
    "\n",
    "import abc\n",
    "\n",
    "class Shape:\n",
    "    @abc.abstractmethod\n",
    "    def area(self):\n",
    "        pass\n",
    "\n",
    "\n",
    "class Circle(Shape):\n",
    "    def __init__(self, radius):\n",
    "        self.radius = radius\n",
    "\n",
    "    def area(self):\n",
    "        return 3.14159 * self.radius ** 2\n",
    "\n",
    "\n",
    "class Rectangle(Shape):\n",
    "    def __init__(self, width, height):\n",
    "        self.width = width\n",
    "        self.height = height\n",
    "\n",
    "    def area(self):\n",
    "        return self.width * self.height\n",
    "\n",
    "\n",
    "c = Circle(5)\n",
    "r = Rectangle(4, 6)\n",
    "\n",
    "print(f\"Circle area: {c.area():.2f}\")      # Circle area: 78.54\n",
    "print(f\"Rectangle area: {r.area():.2f}\")   # Rectangle area: 24.00\n"
   ]
  },
  {
   "cell_type": "code",
   "execution_count": 6,
   "id": "49494b10",
   "metadata": {},
   "outputs": [
    {
     "name": "stdout",
     "output_type": "stream",
     "text": [
      "Type: Vehicle, Model: Tesla Model 3, Battery: 75 kWh\n"
     ]
    }
   ],
   "source": [
    "#3. Implement a multi-level inheritance scenario where a class Vehicle has an attribute type. Derive a class Car and further derive a class ElectricCar that adds a battery attribute.\n",
    "\n",
    "\n",
    "class Vehicle:\n",
    "    def __init__(self, type):\n",
    "        self.type = type\n",
    "\n",
    "\n",
    "class Car(Vehicle):\n",
    "    def __init__(self, type, model):\n",
    "        super().__init__(type) \n",
    "        self.model = model\n",
    "\n",
    "\n",
    "class ElectricCar(Car):\n",
    "    def __init__(self, type, model, battery):\n",
    "        super().__init__(type, model) \n",
    "        self.battery = battery\n",
    "\n",
    "    def show_info(self):\n",
    "        print(f\"Type: {self.type}, Model: {self.model}, Battery: {self.battery} kWh\")\n",
    "\n",
    "\n",
    "ecar = ElectricCar(\"Vehicle\", \"Tesla Model 3\", 75)\n",
    "ecar.show_info()\n"
   ]
  },
  {
   "cell_type": "code",
   "execution_count": null,
   "id": "0ca1fba4",
   "metadata": {},
   "outputs": [
    {
     "name": "stdout",
     "output_type": "stream",
     "text": [
      "Sparrow can fly high!\n",
      "Penguin cannot fly.\n",
      "Some birds can fly.\n"
     ]
    }
   ],
   "source": [
    "#4. Demonstrate polymorphism by creating a base class Bird with a method fly(). Create two derived classes Sparrow and Penguin that override the fly() method.\n",
    "\n",
    "class Bird:\n",
    "    def fly(self):\n",
    "        print(\"Some birds can fly.\")\n",
    "\n",
    "\n",
    "class Sparrow(Bird):\n",
    "    def fly(self):\n",
    "        print(\"Sparrow can fly high!\")\n",
    "\n",
    "\n",
    "class Penguin(Bird):\n",
    "    def fly(self):\n",
    "        print(\"Penguin cannot fly.\")\n",
    "\n",
    "\n",
    "birds = [Sparrow(), Penguin(), Bird()]\n",
    "\n",
    "for b in birds:\n",
    "    b.fly()\n"
   ]
  },
  {
   "cell_type": "code",
   "execution_count": 8,
   "id": "b33e8a7b",
   "metadata": {},
   "outputs": [
    {
     "name": "stdout",
     "output_type": "stream",
     "text": [
      "Deposited: 500\n",
      "Withdrawn: 200\n",
      "Current Balance: 1300\n"
     ]
    }
   ],
   "source": [
    "#5. Write a program to demonstrate encapsulation by creating a class BankAccount with private attributes balance and methods to deposit, withdraw, and check balance.\n",
    "\n",
    "class BankAccount:\n",
    "    def __init__(self, initial_balance):\n",
    "        self.__balance = initial_balance  \n",
    "\n",
    "\n",
    "    def deposit(self, amount):\n",
    "        if amount > 0:\n",
    "            self.__balance += amount\n",
    "            print(f\"Deposited: {amount}\")\n",
    "        else:\n",
    "            print(\"Deposit amount must be positive.\")\n",
    "\n",
    "\n",
    "    def withdraw(self, amount):\n",
    "        if amount > 0:\n",
    "            if amount <= self.__balance:\n",
    "                self.__balance -= amount\n",
    "                print(f\"Withdrawn: {amount}\")\n",
    "            else:\n",
    "                print(\"Insufficient balance!\")\n",
    "        else:\n",
    "            print(\"Withdrawal amount must be positive.\")\n",
    "\n",
    "\n",
    "    def check_balance(self):\n",
    "        print(f\"Current Balance: {self.__balance}\")\n",
    "\n",
    "\n",
    "account = BankAccount(1000)\n",
    "account.deposit(500)\n",
    "account.withdraw(200)\n",
    "account.check_balance()\n",
    "\n",
    "\n"
   ]
  },
  {
   "cell_type": "code",
   "execution_count": null,
   "id": "f1c26b93",
   "metadata": {},
   "outputs": [
    {
     "name": "stdout",
     "output_type": "stream",
     "text": [
      "Playing the Guitar.\n",
      "Playing the Piano.\n",
      "Playing some instrument.\n"
     ]
    }
   ],
   "source": [
    "#6. Demonstrate runtime polymorphism using a method play() in a base class Instrument. Derive classes Guitar and Piano that implement their own version of play().\n",
    "\n",
    "\n",
    "class Instrument:\n",
    "    def play(self):\n",
    "        print(\"Playing some instrument.\")\n",
    "\n",
    "\n",
    "class Guitar(Instrument):\n",
    "    def play(self):\n",
    "        print(\"Playing the Guitar.\")\n",
    "\n",
    "\n",
    "class Piano(Instrument):\n",
    "    def play(self):\n",
    "        print(\"Playing the Piano.\")\n",
    "\n",
    "\n",
    "instruments = [Guitar(), Piano(), Instrument()]\n",
    "\n",
    "for instrument in instruments:\n",
    "    instrument.play()\n"
   ]
  },
  {
   "cell_type": "code",
   "execution_count": 10,
   "id": "ce3e049c",
   "metadata": {},
   "outputs": [
    {
     "name": "stdout",
     "output_type": "stream",
     "text": [
      "Sum: 15\n",
      "Difference: 5\n"
     ]
    }
   ],
   "source": [
    "#7.Create a class MathOperations with a class method add_numbers() to add two numbers and a static method subtract_numbers() to subtract two numbers.\n",
    "\n",
    "class MathOperations:\n",
    "\n",
    "    @classmethod\n",
    "    def add_numbers(cls, a, b):\n",
    "        return a + b\n",
    "\n",
    "    @staticmethod\n",
    "    def subtract_numbers(a, b):\n",
    "        return a - b\n",
    "\n",
    "\n",
    "sum_result = MathOperations.add_numbers(10, 5)\n",
    "print(f\"Sum: {sum_result}\")  \n",
    "\n",
    "# Calling static method\n",
    "diff_result = MathOperations.subtract_numbers(10, 5)\n",
    "print(f\"Difference: {diff_result}\") \n"
   ]
  },
  {
   "cell_type": "code",
   "execution_count": 11,
   "id": "bb5560c4",
   "metadata": {},
   "outputs": [
    {
     "name": "stdout",
     "output_type": "stream",
     "text": [
      "Total persons created: 3\n"
     ]
    }
   ],
   "source": [
    "#8.Implement a class Person with a class method to count the total number of persons created.\n",
    "\n",
    "class Person:\n",
    "    total_persons = 0\n",
    "\n",
    "    def __init__(self, name):\n",
    "        self.name = name\n",
    "        Person.total_persons += 1 \n",
    "\n",
    "    @classmethod\n",
    "    def get_total_persons(cls):\n",
    "        return cls.total_persons\n",
    "\n",
    "\n",
    "p1 = Person(\"Alice\")\n",
    "p2 = Person(\"Bob\")\n",
    "p3 = Person(\"Charlie\")\n",
    "\n",
    "print(f\"Total persons created: {Person.get_total_persons()}\")\n"
   ]
  },
  {
   "cell_type": "code",
   "execution_count": 12,
   "id": "e1040908",
   "metadata": {},
   "outputs": [
    {
     "name": "stdout",
     "output_type": "stream",
     "text": [
      "3/4\n",
      "5/2\n"
     ]
    }
   ],
   "source": [
    "#9.Write a class Fraction with attributes numerator and denominator. Override the str method to display the fraction as \"numerator/denominator\".\n",
    "\n",
    "class Fraction:\n",
    "    def __init__(self, numerator, denominator):\n",
    "        self.numerator = numerator\n",
    "        self.denominator = denominator\n",
    "\n",
    "\n",
    "    def __str__(self):\n",
    "        return f\"{self.numerator}/{self.denominator}\"\n",
    "\n",
    "\n",
    "f1 = Fraction(3, 4)\n",
    "f2 = Fraction(5, 2)\n",
    "\n",
    "print(f1)  \n",
    "print(f2)  \n"
   ]
  },
  {
   "cell_type": "code",
   "execution_count": 13,
   "id": "01b4c172",
   "metadata": {},
   "outputs": [
    {
     "name": "stdout",
     "output_type": "stream",
     "text": [
      "(6, 8)\n"
     ]
    }
   ],
   "source": [
    "#10.Demonstrate operator overloading by creating a class Vector and overriding the add method to add two vectors.\n",
    "\n",
    "class Vector:\n",
    "    def __init__(self, x, y):\n",
    "        self.x = x\n",
    "        self.y = y\n",
    "\n",
    "\n",
    "    def __add__(self, other):\n",
    "        return Vector(self.x + other.x, self.y + other.y)\n",
    "\n",
    "\n",
    "    def __str__(self):\n",
    "        return f\"({self.x}, {self.y})\"\n",
    "\n",
    "\n",
    "v1 = Vector(2, 3)\n",
    "v2 = Vector(4, 5)\n",
    "\n",
    "v3 = v1 + v2  \n",
    "print(v3)    \n"
   ]
  },
  {
   "cell_type": "code",
   "execution_count": 14,
   "id": "348c6509",
   "metadata": {},
   "outputs": [
    {
     "name": "stdout",
     "output_type": "stream",
     "text": [
      "Hello, my name is Alice and I am 25 years old.\n",
      "Hello, my name is Bob and I am 30 years old.\n"
     ]
    }
   ],
   "source": [
    "#11. Create a class Person with attributes name and age. Add a method greet() that prints \"Hello, my name is {name} and I am {age} years old.\"\n",
    "\n",
    "\n",
    "\n",
    "\n",
    "class Person:\n",
    "    def __init__(self, name, age):\n",
    "        self.name = name\n",
    "        self.age = age\n",
    "\n",
    "    def greet(self):\n",
    "        print(f\"Hello, my name is {self.name} and I am {self.age} years old.\")\n",
    "\n",
    "\n",
    "p1 = Person(\"Alice\", 25)\n",
    "p1.greet()  \n",
    "\n",
    "p2 = Person(\"Bob\", 30)\n",
    "p2.greet()  \n"
   ]
  },
  {
   "cell_type": "code",
   "execution_count": 15,
   "id": "a71163c7",
   "metadata": {},
   "outputs": [
    {
     "name": "stdout",
     "output_type": "stream",
     "text": [
      "Alice's average grade: 86.25\n",
      "Bob's average grade: 75.00\n"
     ]
    }
   ],
   "source": [
    "#12.Implement a class Student with attributes name and grades. Create a method average_grade() to compute the average of the grades.\n",
    "\n",
    "class Student:\n",
    "    def __init__(self, name, grades):\n",
    "        self.name = name\n",
    "        self.grades = grades\n",
    "\n",
    "    def average_grade(self):\n",
    "        if not self.grades:\n",
    "            return 0  \n",
    "        return sum(self.grades) / len(self.grades)\n",
    "\n",
    "# Usage\n",
    "s1 = Student(\"Alice\", [85, 90, 78, 92])\n",
    "s2 = Student(\"Bob\", [70, 75, 80])\n",
    "\n",
    "print(f\"{s1.name}'s average grade: {s1.average_grade():.2f}\")  \n",
    "print(f\"{s2.name}'s average grade: {s2.average_grade():.2f}\")  \n"
   ]
  },
  {
   "cell_type": "code",
   "execution_count": 16,
   "id": "03091d4a",
   "metadata": {},
   "outputs": [
    {
     "name": "stdout",
     "output_type": "stream",
     "text": [
      "Area of the rectangle: 15\n"
     ]
    }
   ],
   "source": [
    "#13.  Create a class Rectangle with methods set_dimensions() to set the dimensions and area() to calculate the area.\n",
    "\n",
    "class Rectangle:\n",
    "    def __init__(self):\n",
    "        self.length = 0\n",
    "        self.width = 0\n",
    "\n",
    "\n",
    "    def set_dimensions(self, length, width):\n",
    "        self.length = length\n",
    "        self.width = width\n",
    "\n",
    "    def area(self):\n",
    "        return self.length * self.width\n",
    "\n",
    "\n",
    "rect = Rectangle()\n",
    "rect.set_dimensions(5, 3)\n",
    "print(f\"Area of the rectangle: {rect.area()}\") \n"
   ]
  },
  {
   "cell_type": "code",
   "execution_count": 17,
   "id": "87a6b629",
   "metadata": {},
   "outputs": [
    {
     "name": "stdout",
     "output_type": "stream",
     "text": [
      "Alice's salary: 8000\n",
      "Bob's salary: 17000\n"
     ]
    }
   ],
   "source": [
    "#14.Create a class Employee with a method calculate_salary() that computes the salary based on hours worked and hourly rate. Create a derived class Manager that adds a bonus to the salary.\n",
    "\n",
    "\n",
    "\n",
    "class Employee:\n",
    "    def __init__(self, name, hours_worked, hourly_rate):\n",
    "        self.name = name\n",
    "        self.hours_worked = hours_worked\n",
    "        self.hourly_rate = hourly_rate\n",
    "\n",
    "    def calculate_salary(self):\n",
    "        return self.hours_worked * self.hourly_rate\n",
    "\n",
    "\n",
    "class Manager(Employee):\n",
    "    def __init__(self, name, hours_worked, hourly_rate, bonus):\n",
    "        super().__init__(name, hours_worked, hourly_rate)\n",
    "        self.bonus = bonus\n",
    "\n",
    "    def calculate_salary(self):\n",
    "        base_salary = super().calculate_salary()\n",
    "        return base_salary + self.bonus\n",
    "\n",
    "\n",
    "e1 = Employee(\"Alice\", 40, 200)\n",
    "m1 = Manager(\"Bob\", 40, 300, 5000)\n",
    "\n",
    "print(f\"{e1.name}'s salary: {e1.calculate_salary()}\")  \n",
    "print(f\"{m1.name}'s salary: {m1.calculate_salary()}\")  \n"
   ]
  },
  {
   "cell_type": "code",
   "execution_count": 18,
   "id": "45e84851",
   "metadata": {},
   "outputs": [
    {
     "name": "stdout",
     "output_type": "stream",
     "text": [
      "Total price of Laptop: 100000\n",
      "Total price of Mouse: 2500\n"
     ]
    }
   ],
   "source": [
    "#15. Create a class Product with attributes name, price, and quantity. Implement a method total_price() that calculates the total price of the product.\n",
    "\n",
    "class Product:\n",
    "    def __init__(self, name, price, quantity):\n",
    "        self.name = name\n",
    "        self.price = price\n",
    "        self.quantity = quantity\n",
    "\n",
    "\n",
    "    def total_price(self):\n",
    "        return self.price * self.quantity\n",
    "\n",
    "\n",
    "p1 = Product(\"Laptop\", 50000, 2)\n",
    "p2 = Product(\"Mouse\", 500, 5)\n",
    "\n",
    "print(f\"Total price of {p1.name}: {p1.total_price()}\") \n",
    "print(f\"Total price of {p2.name}: {p2.total_price()}\") \n"
   ]
  },
  {
   "cell_type": "code",
   "execution_count": 19,
   "id": "d8fdcb1f",
   "metadata": {},
   "outputs": [
    {
     "name": "stdout",
     "output_type": "stream",
     "text": [
      "Moo!\n",
      "Baa!\n"
     ]
    }
   ],
   "source": [
    "#16. Create a class Animal with an abstract method sound(). Create two derived classes Cow and Sheep that implement the sound() method.\n",
    "\n",
    "import abc \n",
    "\n",
    "\n",
    "class Animal:\n",
    "    @abc.abstractmethod\n",
    "    def sound(self):\n",
    "        pass\n",
    "\n",
    "\n",
    "class Cow(Animal):\n",
    "    def sound(self):\n",
    "        print(\"Moo!\")\n",
    "\n",
    "\n",
    "class Sheep(Animal):\n",
    "    def sound(self):\n",
    "        print(\"Baa!\")\n",
    "\n",
    "\n",
    "c = Cow()\n",
    "s = Sheep()\n",
    "\n",
    "c.sound()  \n",
    "s.sound()  \n"
   ]
  },
  {
   "cell_type": "code",
   "execution_count": 20,
   "id": "3df82719",
   "metadata": {},
   "outputs": [
    {
     "name": "stdout",
     "output_type": "stream",
     "text": [
      "'1984' by George Orwell, published in 1949\n",
      "'To Kill a Mockingbird' by Harper Lee, published in 1960\n"
     ]
    }
   ],
   "source": [
    "#17. Create a class Book with attributes title, author, and year_published. Add a method get_book_info() that returns a formatted string with the book's details.\n",
    "\n",
    "class Book:\n",
    "    def __init__(self, title, author, year_published):\n",
    "        self.title = title\n",
    "        self.author = author\n",
    "        self.year_published = year_published\n",
    "\n",
    "    def get_book_info(self):\n",
    "        return f\"'{self.title}' by {self.author}, published in {self.year_published}\"\n",
    "\n",
    "\n",
    "book1 = Book(\"1984\", \"George Orwell\", 1949)\n",
    "book2 = Book(\"To Kill a Mockingbird\", \"Harper Lee\", 1960)\n",
    "\n",
    "print(book1.get_book_info())  \n",
    "print(book2.get_book_info())  \n"
   ]
  },
  {
   "cell_type": "code",
   "execution_count": 22,
   "id": "cc0df188",
   "metadata": {},
   "outputs": [
    {
     "name": "stdout",
     "output_type": "stream",
     "text": [
      "Address: 123 Main St, Price: 250000\n",
      "Address: 456 Luxury Ave, Price: 2000000, Rooms: 10\n"
     ]
    }
   ],
   "source": [
    "#18.Create a class House with attributes address and price. Create a derived class Mansion that adds an attribute number_of_rooms.\n",
    "\n",
    "\n",
    "class House:\n",
    "    def __init__(self, address, price):\n",
    "        self.address = address\n",
    "        self.price = price\n",
    "\n",
    "    def get_info(self):\n",
    "        return f\"Address: {self.address}, Price: {self.price}\"\n",
    "\n",
    "\n",
    "class Mansion(House):\n",
    "    def __init__(self, address, price, number_of_rooms):\n",
    "        super().__init__(address, price) \n",
    "        self.number_of_rooms = number_of_rooms\n",
    "\n",
    "    def get_info(self):\n",
    "        return f\"Address: {self.address}, Price: {self.price}, Rooms: {self.number_of_rooms}\"\n",
    "\n",
    "\n",
    "h1 = House(\"123 Main St\", 250000)\n",
    "m1 = Mansion(\"456 Luxury Ave\", 2000000, 10)\n",
    "\n",
    "print(h1.get_info())  \n",
    "print(m1.get_info())  \n"
   ]
  }
 ],
 "metadata": {
  "kernelspec": {
   "display_name": "Python 3",
   "language": "python",
   "name": "python3"
  },
  "language_info": {
   "codemirror_mode": {
    "name": "ipython",
    "version": 3
   },
   "file_extension": ".py",
   "mimetype": "text/x-python",
   "name": "python",
   "nbconvert_exporter": "python",
   "pygments_lexer": "ipython3",
   "version": "3.13.7"
  }
 },
 "nbformat": 4,
 "nbformat_minor": 5
}
