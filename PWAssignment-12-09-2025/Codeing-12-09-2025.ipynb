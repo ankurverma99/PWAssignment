{
 "cells": [
  {
   "cell_type": "code",
   "execution_count": 1,
   "id": "d6b9ae4c",
   "metadata": {},
   "outputs": [
    {
     "name": "stdout",
     "output_type": "stream",
     "text": [
      "Ankur\n"
     ]
    }
   ],
   "source": [
    "#1. Write a code to create a string with your name and print it?\n",
    "\n",
    "name = 'Ankur'\n",
    "print(name)"
   ]
  },
  {
   "cell_type": "code",
   "execution_count": null,
   "id": "6694badc",
   "metadata": {},
   "outputs": [
    {
     "name": "stdout",
     "output_type": "stream",
     "text": [
      "11\n"
     ]
    }
   ],
   "source": [
    "#2.Write a code to find the length of the string \"Hello World\"?\n",
    "st = \"Hello World\"\n",
    "print(len(st))"
   ]
  },
  {
   "cell_type": "code",
   "execution_count": 5,
   "id": "db5ba5e0",
   "metadata": {},
   "outputs": [
    {
     "data": {
      "text/plain": [
       "'Pyt'"
      ]
     },
     "execution_count": 5,
     "metadata": {},
     "output_type": "execute_result"
    }
   ],
   "source": [
    "#3.Write a code to slice the first 3 characters from the string \"Python Programming\"?\n",
    "\n",
    "str = \"Python Programming\"\n",
    "str[0:3]"
   ]
  },
  {
   "cell_type": "code",
   "execution_count": 6,
   "id": "f3adbaea",
   "metadata": {},
   "outputs": [
    {
     "data": {
      "text/plain": [
       "'HELLO'"
      ]
     },
     "execution_count": 6,
     "metadata": {},
     "output_type": "execute_result"
    }
   ],
   "source": [
    "#4.Write a code to convert the string \"hello\" to uppercase?\n",
    "st = \"hello\"\n",
    "st.upper()"
   ]
  },
  {
   "cell_type": "code",
   "execution_count": 8,
   "id": "780fc708",
   "metadata": {},
   "outputs": [
    {
     "data": {
      "text/plain": [
       "'I like orange'"
      ]
     },
     "execution_count": 8,
     "metadata": {},
     "output_type": "execute_result"
    }
   ],
   "source": [
    "#5.Write a code to replace the word \"apple\" with \"orange\" in the string \"I like apple\"?\n",
    "\n",
    "str = \"I like apple\"\n",
    "str.replace('apple','orange')\n"
   ]
  },
  {
   "cell_type": "code",
   "execution_count": 10,
   "id": "8fc5ff51",
   "metadata": {},
   "outputs": [
    {
     "name": "stdout",
     "output_type": "stream",
     "text": [
      "[1, 2, 3, 4, 5]\n"
     ]
    }
   ],
   "source": [
    "#6.Write a code to create a list with numbers 1 to 5 and print it.\n",
    "\n",
    "lst =[1,2,3,4,5]\n",
    "print(lst)"
   ]
  },
  {
   "cell_type": "code",
   "execution_count": 11,
   "id": "6da8c297",
   "metadata": {},
   "outputs": [
    {
     "data": {
      "text/plain": [
       "[1, 2, 3, 4, 10]"
      ]
     },
     "execution_count": 11,
     "metadata": {},
     "output_type": "execute_result"
    }
   ],
   "source": [
    "#7.Write a code to append the number 10 to the list [1, 2, 3, 4].\n",
    "l= [1, 2, 3, 4]\n",
    "l.append(10)\n",
    "l"
   ]
  },
  {
   "cell_type": "code",
   "execution_count": 12,
   "id": "a636c93b",
   "metadata": {},
   "outputs": [
    {
     "data": {
      "text/plain": [
       "[1, 2, 4, 5]"
      ]
     },
     "execution_count": 12,
     "metadata": {},
     "output_type": "execute_result"
    }
   ],
   "source": [
    "#8.Write a code to remove the number 3 from the list [1, 2, 3, 4, 5]\n",
    "lst =[1,2,3,4,5]\n",
    "lst.remove(3)\n",
    "lst"
   ]
  },
  {
   "cell_type": "code",
   "execution_count": 13,
   "id": "77a29571",
   "metadata": {},
   "outputs": [
    {
     "data": {
      "text/plain": [
       "'b'"
      ]
     },
     "execution_count": 13,
     "metadata": {},
     "output_type": "execute_result"
    }
   ],
   "source": [
    "#9.Write a code to access the second element in the list ['a', 'b', 'c', 'd']\n",
    "\n",
    "ls = ['a', 'b', 'c', 'd']\n",
    "\n",
    "ls[1]"
   ]
  },
  {
   "cell_type": "code",
   "execution_count": null,
   "id": "b85d51a2",
   "metadata": {},
   "outputs": [
    {
     "name": "stdout",
     "output_type": "stream",
     "text": [
      "[50, 40, 30, 20, 10]\n",
      "[50, 40, 30, 20, 10]\n",
      "[50, 40, 30, 20, 10]\n"
     ]
    },
    {
     "data": {
      "text/plain": [
       "[50, 40, 30, 20, 10]"
      ]
     },
     "execution_count": 22,
     "metadata": {},
     "output_type": "execute_result"
    }
   ],
   "source": [
    "#10. Write a code to reverse the list [10, 20, 30, 40, 50].\n",
    "\n",
    "lst = [10, 20, 30, 40, 50]\n",
    "rev = []\n",
    "#using loop\n",
    "for i in range(len(lst)-1,-1,-1) :\n",
    "    rev.append(lst[i])\n",
    "print(rev)    \n",
    "\n",
    "# using slicing\n",
    "print(lst[::-1])\n",
    "\n",
    "#using cpmrehension\n",
    "reverse = [lst[i] for i in range(len(lst)-1,-1,-1)]\n",
    "print(reverse)\n",
    "\n",
    "#using built in\n",
    "lst.reverse()\n",
    "lst\n"
   ]
  },
  {
   "cell_type": "code",
   "execution_count": 24,
   "id": "74b6c04a",
   "metadata": {},
   "outputs": [
    {
     "name": "stdout",
     "output_type": "stream",
     "text": [
      "(100, 200, 300)\n"
     ]
    }
   ],
   "source": [
    "#11.Write a code to create a tuple with the elements 100, 200, 300 and print it.\n",
    "\n",
    "t = (100,200,300)\n",
    "\n",
    "print(t)"
   ]
  },
  {
   "cell_type": "code",
   "execution_count": 26,
   "id": "eb4ab32d",
   "metadata": {},
   "outputs": [
    {
     "data": {
      "text/plain": [
       "('green', 'blue', 'yellow')"
      ]
     },
     "execution_count": 26,
     "metadata": {},
     "output_type": "execute_result"
    }
   ],
   "source": [
    "#12.Write a code to access the second-to-last element of the tuple ('red', 'green', 'blue', 'yellow').\n",
    "\n",
    "color = ('red', 'green', 'blue', 'yellow')\n",
    "\n",
    "color[1:]"
   ]
  },
  {
   "cell_type": "code",
   "execution_count": 29,
   "id": "88b6746e",
   "metadata": {},
   "outputs": [
    {
     "data": {
      "text/plain": [
       "20"
      ]
     },
     "execution_count": 29,
     "metadata": {},
     "output_type": "execute_result"
    }
   ],
   "source": [
    "#13.Write a code to find the minimum number in the tuple (10, 20, 5, 15).\n",
    "\n",
    "num = (10, 20, 5, 15)\n",
    "max(num)\n"
   ]
  },
  {
   "cell_type": "code",
   "execution_count": 31,
   "id": "78569d0a",
   "metadata": {},
   "outputs": [
    {
     "data": {
      "text/plain": [
       "1"
      ]
     },
     "execution_count": 31,
     "metadata": {},
     "output_type": "execute_result"
    }
   ],
   "source": [
    "#14.Write a code to find the index of the element \"cat\" in the tuple ('dog', 'cat', 'rabbit').\n",
    "\n",
    "animal = ('dog', 'cat', 'rabbit')\n",
    "\n",
    "animal.index('cat')"
   ]
  },
  {
   "cell_type": "code",
   "execution_count": 33,
   "id": "1992cb85",
   "metadata": {},
   "outputs": [
    {
     "name": "stdout",
     "output_type": "stream",
     "text": [
      "Kiwi is present in tuple\n"
     ]
    }
   ],
   "source": [
    "#15. Write a code to create a tuple containing three different fruits and check if \"kiwi\" is in it.\n",
    "\n",
    "friuts = ('apple','banana','kiwi','orange')\n",
    "\n",
    "if 'kiwi' in friuts :\n",
    "    print('Kiwi is present in tuple')\n",
    "else :\n",
    "    print('Kiwi is not present in tuple') "
   ]
  },
  {
   "cell_type": "code",
   "execution_count": 36,
   "id": "9c691cbe",
   "metadata": {},
   "outputs": [
    {
     "name": "stdout",
     "output_type": "stream",
     "text": [
      "{'c', 'b', 'a'}\n"
     ]
    }
   ],
   "source": [
    "#16. Write a code to create a set with the elements 'a', 'b', 'c' and print it.\n",
    "\n",
    "st ={'a','b','c'}\n",
    "print(st)"
   ]
  },
  {
   "cell_type": "code",
   "execution_count": 37,
   "id": "1be13f63",
   "metadata": {},
   "outputs": [
    {
     "data": {
      "text/plain": [
       "set()"
      ]
     },
     "execution_count": 37,
     "metadata": {},
     "output_type": "execute_result"
    }
   ],
   "source": [
    "#17.Write a code to clear all elements from the set {1, 2, 3, 4, 5}.\n",
    "\n",
    "ele = {1, 2, 3, 4, 5}\n",
    "\n",
    "ele.clear()\n",
    "\n",
    "ele"
   ]
  },
  {
   "cell_type": "code",
   "execution_count": 38,
   "id": "30f83982",
   "metadata": {},
   "outputs": [
    {
     "data": {
      "text/plain": [
       "{1, 2, 3}"
      ]
     },
     "execution_count": 38,
     "metadata": {},
     "output_type": "execute_result"
    }
   ],
   "source": [
    "#18. Write a code to remove the element 4 from the set {1, 2, 3, 4}.\n",
    "\n",
    "ele = {1, 2, 3, 4}\n",
    "ele.remove(4)\n",
    "ele"
   ]
  },
  {
   "cell_type": "code",
   "execution_count": 41,
   "id": "a793ca36",
   "metadata": {},
   "outputs": [
    {
     "name": "stdout",
     "output_type": "stream",
     "text": [
      "{1, 2, 3, 4, 5}\n"
     ]
    },
    {
     "data": {
      "text/plain": [
       "{1, 2, 3, 4, 5}"
      ]
     },
     "execution_count": 41,
     "metadata": {},
     "output_type": "execute_result"
    }
   ],
   "source": [
    "#19. Write a code to find the union of two sets {1, 2, 3} and {3, 4, 5}\n",
    "s1 = {1,2,3}\n",
    "s2={3,4,5}\n",
    "\n",
    "print(s1|s2) \n",
    "\n",
    "s1.union(s2)"
   ]
  },
  {
   "cell_type": "code",
   "execution_count": 43,
   "id": "74148eaf",
   "metadata": {},
   "outputs": [
    {
     "name": "stdout",
     "output_type": "stream",
     "text": [
      "{2, 3}\n"
     ]
    },
    {
     "data": {
      "text/plain": [
       "{2, 3}"
      ]
     },
     "execution_count": 43,
     "metadata": {},
     "output_type": "execute_result"
    }
   ],
   "source": [
    "#20. Write a code to find the intersection of two sets {1, 2, 3} and {2, 3, 4}.\n",
    "\n",
    "s1 = {1,2,3}\n",
    "s2 = {2,3,4}\n",
    "\n",
    "print(s1&s2)\n",
    "\n",
    "s1.intersection(s2)"
   ]
  },
  {
   "cell_type": "code",
   "execution_count": 44,
   "id": "ee7f11c4",
   "metadata": {},
   "outputs": [
    {
     "name": "stdout",
     "output_type": "stream",
     "text": [
      "{'name': 'Ankur', 'age': 22, 'city': 'kolkata'}\n"
     ]
    }
   ],
   "source": [
    "#21. Write a code to create a dictionary with the keys \"name\", \"age\", and \"city\", and print it.\n",
    "\n",
    "people = {\"name\": \"Ankur\",\"age\": 22,\"city\": 'kolkata'}\n",
    "\n",
    "print(people)"
   ]
  },
  {
   "cell_type": "code",
   "execution_count": 45,
   "id": "2ba2e4a9",
   "metadata": {},
   "outputs": [
    {
     "data": {
      "text/plain": [
       "{'name': 'John', 'age': 25, 'country': 'USA'}"
      ]
     },
     "execution_count": 45,
     "metadata": {},
     "output_type": "execute_result"
    }
   ],
   "source": [
    "#22. Write a code to add a new key-value pair \"country\": \"USA\" to the dictionary {'name': 'John', 'age': 25}.\n",
    "\n",
    "dt = {'name': 'John', 'age': 25}\n",
    "\n",
    "dt['country'] = 'USA'\n",
    "\n",
    "dt"
   ]
  },
  {
   "cell_type": "code",
   "execution_count": 46,
   "id": "b7e76502",
   "metadata": {},
   "outputs": [
    {
     "data": {
      "text/plain": [
       "'Alice'"
      ]
     },
     "execution_count": 46,
     "metadata": {},
     "output_type": "execute_result"
    }
   ],
   "source": [
    "#23. Write a code to access the value associated with the key \"name\" in the dictionary {'name': 'Alice', 'age': 30}.\n",
    "\n",
    "dct = {'name': 'Alice', 'age': 30}\n",
    "\n",
    "dct.get('name')"
   ]
  },
  {
   "cell_type": "code",
   "execution_count": 48,
   "id": "f93c0200",
   "metadata": {},
   "outputs": [
    {
     "data": {
      "text/plain": [
       "{'name': 'Bob', 'city': 'New York'}"
      ]
     },
     "execution_count": 48,
     "metadata": {},
     "output_type": "execute_result"
    }
   ],
   "source": [
    "#24. Write a code to remove the key \"age\" from the dictionary {'name': 'Bob', 'age': 22, 'city': 'New York'}.\n",
    "\n",
    "d = {'name': 'Bob', 'age': 22, 'city': 'New York'}\n",
    "\n",
    "d.pop('age')\n",
    "\n",
    "d"
   ]
  },
  {
   "cell_type": "code",
   "execution_count": 50,
   "id": "d1344b64",
   "metadata": {},
   "outputs": [
    {
     "name": "stdout",
     "output_type": "stream",
     "text": [
      "'city' exists in the dictionary.\n"
     ]
    }
   ],
   "source": [
    "#25. Write a code to check if the key \"city\" exists in the dictionary {'name': 'Alice', 'city': 'Paris'}.\n",
    "person = {'name': 'Alice', 'city': 'Paris'}\n",
    "\n",
    "if 'city' in person:\n",
    "    print(\"'city' exists in the dictionary.\")\n",
    "else:\n",
    "    print(\"'city' does not exist in the dictionary.\")\n"
   ]
  },
  {
   "cell_type": "code",
   "execution_count": 53,
   "id": "41c82208",
   "metadata": {},
   "outputs": [
    {
     "name": "stdout",
     "output_type": "stream",
     "text": [
      "[0, 1, 2, 3] ------> <class 'list'>\n",
      "('a', 'b', 'c') ------> <class 'tuple'>\n",
      "{'name': 'Ankur', 'age': 29} ------> <class 'dict'>\n"
     ]
    }
   ],
   "source": [
    "#26.. Write a code to create a list, a tuple, and a dictionary, and print them all.\n",
    "\n",
    "lst =[0,1,2,3]\n",
    "tup =('a','b','c')\n",
    "dict ={'name':'Ankur','age':29}\n",
    "\n",
    "print(lst ,'------>',type(lst))\n",
    "print(tup ,'------>',type(tup))\n",
    "print(dict ,'------>',type(dict))"
   ]
  },
  {
   "cell_type": "code",
   "execution_count": 60,
   "id": "3bc2e456",
   "metadata": {},
   "outputs": [
    {
     "name": "stdout",
     "output_type": "stream",
     "text": [
      "[11, 34, 62, 64, 78]\n"
     ]
    }
   ],
   "source": [
    "#27. Write a code to create a list of 5 random numbers between 1 and 100, sort it in ascending order, and print the result.(replaced)\n",
    "\n",
    "import random\n",
    "\n",
    "lst = [ random.randint(1, 100) for _ in range(5) ]\n",
    "\n",
    "lst.sort()\n",
    "\n",
    "print(lst)\n"
   ]
  },
  {
   "cell_type": "code",
   "execution_count": 61,
   "id": "35d877ee",
   "metadata": {},
   "outputs": [
    {
     "data": {
      "text/plain": [
       "'Rohit'"
      ]
     },
     "execution_count": 61,
     "metadata": {},
     "output_type": "execute_result"
    }
   ],
   "source": [
    "#28.Write a code to create a list with strings and print the element at the third index.\n",
    "\n",
    "names=  ['Ankur','Aman','Rohit','Vinit']\n",
    "\n",
    "names[2]"
   ]
  },
  {
   "cell_type": "code",
   "execution_count": 65,
   "id": "a5b6be73",
   "metadata": {},
   "outputs": [
    {
     "data": {
      "text/plain": [
       "{'name': 'Ankur',\n",
       " 'emial': 'av@gmail.com',\n",
       " 'Contact': (123, 456),\n",
       " 'City': 'kolkata',\n",
       " 'State': 'WB'}"
      ]
     },
     "execution_count": 65,
     "metadata": {},
     "output_type": "execute_result"
    }
   ],
   "source": [
    "#29.Write a code to combine two dictionaries into one and print the result.\n",
    "\n",
    "dct = {\"name\":\"Ankur\",\"emial\":\"av@gmail.com\",\"Contact\":(123,456)}\n",
    "\n",
    "d = {'City':'kolkata' , 'State' : 'WB'}\n",
    "\n",
    "dct.update(d)\n",
    "\n",
    "dct"
   ]
  },
  {
   "cell_type": "code",
   "execution_count": 84,
   "id": "2e8b36b9",
   "metadata": {},
   "outputs": [
    {
     "data": {
      "text/plain": [
       "{'a', 'b', 'c', 'd', 'z'}"
      ]
     },
     "execution_count": 84,
     "metadata": {},
     "output_type": "execute_result"
    }
   ],
   "source": [
    "#30. Write a code to convert a list of strings into a set\n",
    "\n",
    "lst =['a','b','c','d','a','b','z']\n",
    "s = set(lst)\n",
    "s\n"
   ]
  }
 ],
 "metadata": {
  "kernelspec": {
   "display_name": "Python 3",
   "language": "python",
   "name": "python3"
  },
  "language_info": {
   "codemirror_mode": {
    "name": "ipython",
    "version": 3
   },
   "file_extension": ".py",
   "mimetype": "text/x-python",
   "name": "python",
   "nbconvert_exporter": "python",
   "pygments_lexer": "ipython3",
   "version": "3.13.7"
  }
 },
 "nbformat": 4,
 "nbformat_minor": 5
}
