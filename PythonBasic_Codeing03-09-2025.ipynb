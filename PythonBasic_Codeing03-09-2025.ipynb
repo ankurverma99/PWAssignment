{
 "cells": [
  {
   "cell_type": "code",
   "execution_count": 1,
   "id": "b552dcdd-c3b6-4e96-a5f1-5c15ea0e784c",
   "metadata": {},
   "outputs": [
    {
     "name": "stdout",
     "output_type": "stream",
     "text": [
      "Hello world !!\n"
     ]
    }
   ],
   "source": [
    "#1.Write a Python program to print \"Hello, World!\n",
    "print('Hello world !!')"
   ]
  },
  {
   "cell_type": "code",
   "execution_count": 2,
   "id": "e278b907-b8fd-40e1-b477-46ad3e30e225",
   "metadata": {},
   "outputs": [
    {
     "name": "stdin",
     "output_type": "stream",
     "text": [
      "Enter your name Ankur\n",
      "enter your age 28\n"
     ]
    },
    {
     "name": "stdout",
     "output_type": "stream",
     "text": [
      "your name :  Ankur and your age :  28\n"
     ]
    }
   ],
   "source": [
    "#2.Write a Python program that displays your name and age\n",
    "name = input('Enter your name')\n",
    "age = input('enter your age')\n",
    "print ('your name : ' ,name ,'and your age : ' ,age)"
   ]
  },
  {
   "cell_type": "code",
   "execution_count": 3,
   "id": "81accd25-c36f-4df4-baae-771f81cd5288",
   "metadata": {},
   "outputs": [
    {
     "name": "stdout",
     "output_type": "stream",
     "text": [
      "\n",
      "Here is a list of the Python keywords.  Enter any keyword to get more help.\n",
      "\n",
      "False               class               from                or\n",
      "None                continue            global              pass\n",
      "True                def                 if                  raise\n",
      "and                 del                 import              return\n",
      "as                  elif                in                  try\n",
      "assert              else                is                  while\n",
      "async               except              lambda              with\n",
      "await               finally             nonlocal            yield\n",
      "break               for                 not                 \n",
      "\n"
     ]
    }
   ],
   "source": [
    "#3.Write code to print all the pre-defined keywords in Python using the keyword library\n",
    "\n",
    "help('keywords')"
   ]
  },
  {
   "cell_type": "code",
   "execution_count": 10,
   "id": "65265f60-d776-43fa-905e-69c30066c8b0",
   "metadata": {},
   "outputs": [
    {
     "name": "stdin",
     "output_type": "stream",
     "text": [
      "enter a word hello\n"
     ]
    },
    {
     "name": "stdout",
     "output_type": "stream",
     "text": [
      "hello  is not a keyword\n"
     ]
    }
   ],
   "source": [
    "#4.Write a program that checks if a given word is a Python keyword.\n",
    "import keyword\n",
    "\n",
    "word = input('enter a word')\n",
    "\n",
    "if keyword.iskeyword(word):\n",
    "    print(word ,' is a keyword')\n",
    "else :\n",
    "    print(word,' is not a keyword')\n",
    "    "
   ]
  },
  {
   "cell_type": "code",
   "execution_count": 14,
   "id": "3dfe1376-fb52-4748-86bc-95e2735c925f",
   "metadata": {},
   "outputs": [
    {
     "name": "stdout",
     "output_type": "stream",
     "text": [
      "list\n",
      "[1, 2, 3]\n",
      "[9, 2, 3]\n",
      "tuple\n",
      "(1, 2, 3)\n"
     ]
    },
    {
     "ename": "TypeError",
     "evalue": "'tuple' object does not support item assignment",
     "output_type": "error",
     "traceback": [
      "\u001b[31m---------------------------------------------------------------------------\u001b[39m",
      "\u001b[31mTypeError\u001b[39m                                 Traceback (most recent call last)",
      "\u001b[36mCell\u001b[39m\u001b[36m \u001b[39m\u001b[32mIn[14]\u001b[39m\u001b[32m, line 12\u001b[39m\n\u001b[32m     10\u001b[39m \u001b[38;5;28mtuple\u001b[39m = (\u001b[32m1\u001b[39m,\u001b[32m2\u001b[39m,\u001b[32m3\u001b[39m)\n\u001b[32m     11\u001b[39m \u001b[38;5;28mprint\u001b[39m(\u001b[38;5;28mtuple\u001b[39m) \u001b[38;5;66;03m# befor changeing element\u001b[39;00m\n\u001b[32m---> \u001b[39m\u001b[32m12\u001b[39m \u001b[38;5;28;43mtuple\u001b[39;49m\u001b[43m[\u001b[49m\u001b[32;43m0\u001b[39;49m\u001b[43m]\u001b[49m = \u001b[32m6\u001b[39m\n\u001b[32m     13\u001b[39m \u001b[38;5;28mprint\u001b[39m(\u001b[38;5;28mtuple\u001b[39m)  \u001b[38;5;66;03m# after chnaging element\u001b[39;00m\n",
      "\u001b[31mTypeError\u001b[39m: 'tuple' object does not support item assignment"
     ]
    }
   ],
   "source": [
    "#5. Create a list and tuple in Python, and demonstrate how attempting to change an element works differently for each.\n",
    "\n",
    "print('list')\n",
    "list = [1,2,3]\n",
    "print(list) # befor changeing element\n",
    "list[0] = 9\n",
    "print(list) # after chnaging element\n",
    "\n",
    "print('tuple')\n",
    "tuple = (1,2,3)\n",
    "print(tuple) # befor changeing element\n",
    "tuple[0] = 6\n",
    "print(tuple)  # after chnaging element"
   ]
  },
  {
   "cell_type": "code",
   "execution_count": 15,
   "id": "d7bb278d-bcc2-469c-aaea-d713a1aff9db",
   "metadata": {},
   "outputs": [
    {
     "name": "stdout",
     "output_type": "stream",
     "text": [
      "Mutable list\n",
      "[9, 2, 3]\n",
      "Immutable String\n"
     ]
    },
    {
     "ename": "TypeError",
     "evalue": "'str' object does not support item assignment",
     "output_type": "error",
     "traceback": [
      "\u001b[31m---------------------------------------------------------------------------\u001b[39m",
      "\u001b[31mTypeError\u001b[39m                                 Traceback (most recent call last)",
      "\u001b[36mCell\u001b[39m\u001b[36m \u001b[39m\u001b[32mIn[15]\u001b[39m\u001b[32m, line 11\u001b[39m\n\u001b[32m      8\u001b[39m \u001b[38;5;28mprint\u001b[39m(\u001b[33m'\u001b[39m\u001b[33mImmutable String\u001b[39m\u001b[33m'\u001b[39m)\n\u001b[32m     10\u001b[39m \u001b[38;5;28mstr\u001b[39m = \u001b[33m'\u001b[39m\u001b[33mwavy\u001b[39m\u001b[33m'\u001b[39m\n\u001b[32m---> \u001b[39m\u001b[32m11\u001b[39m \u001b[38;5;28;43mstr\u001b[39;49m\u001b[43m[\u001b[49m\u001b[32;43m0\u001b[39;49m\u001b[43m]\u001b[49m = \u001b[33m'\u001b[39m\u001b[33mH\u001b[39m\u001b[33m'\u001b[39m\n\u001b[32m     12\u001b[39m \u001b[38;5;28mprint\u001b[39m(\u001b[38;5;28mstr\u001b[39m)\n",
      "\u001b[31mTypeError\u001b[39m: 'str' object does not support item assignment"
     ]
    }
   ],
   "source": [
    "#6. Write a function to demonstrate the behavior of mutable and immutable arguments.\n",
    "\n",
    "print('Mutable list')\n",
    "list = [1,2,3]\n",
    "list[0] = 9\n",
    "print(list) \n",
    "\n",
    "print('Immutable String')\n",
    "\n",
    "str = 'wavy'\n",
    "str[0] = 'H'\n",
    "print(str)"
   ]
  },
  {
   "cell_type": "code",
   "execution_count": 16,
   "id": "f0a147c6-a191-41ad-a564-62e8fe4a4c94",
   "metadata": {},
   "outputs": [
    {
     "name": "stdin",
     "output_type": "stream",
     "text": [
      "enter 1st number 6\n",
      "enter 2nd number 3\n"
     ]
    },
    {
     "name": "stdout",
     "output_type": "stream",
     "text": [
      "9\n",
      "3\n",
      "18\n",
      "2.0\n",
      "2\n",
      "0\n",
      "216\n"
     ]
    }
   ],
   "source": [
    "#7. Write a program that performs basic arithmetic operations on two user-input numbers.\n",
    "\n",
    "a = int (input('enter 1st number'))\n",
    "b = int (input('enter 2nd number'))\n",
    "\n",
    "print(a+b)\n",
    "print(a-b)\n",
    "print(a*b)\n",
    "print(a/b)\n",
    "print(a//b)\n",
    "print(a%b)\n",
    "print(a**b)"
   ]
  },
  {
   "cell_type": "code",
   "execution_count": 19,
   "id": "a6e7536f-b0d4-4300-81de-709eb7a8120e",
   "metadata": {},
   "outputs": [
    {
     "name": "stdin",
     "output_type": "stream",
     "text": [
      "Enter username  \n",
      "Enter password  123\n"
     ]
    },
    {
     "name": "stdout",
     "output_type": "stream",
     "text": [
      "Invalid  credentials.\n",
      "one of the credentials is correct.\n",
      "Username cannot be empty.\n"
     ]
    }
   ],
   "source": [
    "#8. Write a program to demonstrate the use of logical operators\n",
    "\n",
    "username = input(\"Enter username \")\n",
    "password = input(\"Enter password \")\n",
    "\n",
    "correct_username = \"Ankur\"\n",
    "correct_password = \"123\"\n",
    "\n",
    "if username == correct_username and password == correct_password:\n",
    "    print(\"Login Done\")\n",
    "else:\n",
    "    print(\"Invalid  credentials.\")\n",
    "\n",
    "if username == correct_username or password == correct_password:\n",
    "    print(\"one of the credentials is correct.\")\n",
    "else:\n",
    "    print(\"Both username and password are incorrect.\")\n",
    "\n",
    "if not username:\n",
    "    print(\"Username cannot be empty.\")"
   ]
  },
  {
   "cell_type": "code",
   "execution_count": 33,
   "id": "09c20312-f4f0-4c18-951a-79f207b78e56",
   "metadata": {},
   "outputs": [
    {
     "name": "stdout",
     "output_type": "stream",
     "text": [
      "<class 'str'>\n",
      "<class 'str'>\n",
      "9.99 Type converted to <class 'float'>\n",
      "9 Type converted to  <class 'int'>\n",
      "True Type converted to <class 'bool'>\n",
      "True\n"
     ]
    }
   ],
   "source": [
    "#9. Write a Python program to convert user input from string to integer, float, and boolean types.\n",
    "str1 = '9.99'\n",
    "str2 = '1'\n",
    "print(type(str1))\n",
    "print(type(str2))\n",
    "\n",
    "print(str1,'Type converted to' , type(float(str1)))\n",
    "str1 = int(float(str1))\n",
    "print(str1,'Type converted to ',type(str1))\n",
    "\n",
    "str2 = bool(str2)\n",
    "print(str2,'Type converted to' , type(str2))\n",
    "print(str2)"
   ]
  },
  {
   "cell_type": "code",
   "execution_count": 48,
   "id": "e96726e7-26f8-4807-bb6e-e1e8f81eecfd",
   "metadata": {},
   "outputs": [
    {
     "name": "stdout",
     "output_type": "stream",
     "text": [
      "before casting ['10', '20', '30', '40']\n",
      "After casting to integers: [10, 20, 30, 40]\n",
      "After casting to Float: [10.0, 20.0, 30.0, 40.0]\n"
     ]
    }
   ],
   "source": [
    "#10. Write code to demonstrate type casting with list elements.\n",
    "\n",
    "list = ['10', '20', '30', '40']\n",
    "\n",
    "print('before casting' , list)\n",
    "\n",
    "int_list =[]\n",
    "for i in list :\n",
    "   int_list.append(int(i)) \n",
    "print(\"After casting to integers:\", int_list)\n",
    "\n",
    "float_list =[]\n",
    "for i in list :\n",
    "  float_list.append(float(i)) \n",
    "\n",
    "print(\"After casting to Float:\", float_list)"
   ]
  },
  {
   "cell_type": "code",
   "execution_count": 52,
   "id": "921ccc64-353c-423b-aa92-90f65650cfad",
   "metadata": {},
   "outputs": [
    {
     "name": "stdin",
     "output_type": "stream",
     "text": [
      "Enter anumber to check 0\n"
     ]
    },
    {
     "name": "stdout",
     "output_type": "stream",
     "text": [
      "0 is ZERO\n"
     ]
    }
   ],
   "source": [
    "#11. Write a program that checks if a number is positive, negative, or zero.\n",
    "\n",
    "num = int (input('Enter anumber to check'))\n",
    "\n",
    "if num>0:\n",
    "    print(num,' is positive')\n",
    "elif num<0:\n",
    "    print(num,'is negative')\n",
    "else :\n",
    "    print(num,'is ZERO')\n",
    "           \n",
    "\n",
    "           "
   ]
  },
  {
   "cell_type": "code",
   "execution_count": 56,
   "id": "b67f158a-9095-49b2-b1ec-7edb56bd4e51",
   "metadata": {},
   "outputs": [
    {
     "name": "stdout",
     "output_type": "stream",
     "text": [
      "1\n",
      "2\n",
      "3\n",
      "4\n",
      "5\n",
      "6\n",
      "7\n",
      "8\n",
      "9\n",
      "10\n"
     ]
    }
   ],
   "source": [
    "#12. Write a for loop to print numbers from 1 to 10.\n",
    "\n",
    "for i in range(1,11):\n",
    "    print(i)"
   ]
  },
  {
   "cell_type": "code",
   "execution_count": 64,
   "id": "5b7bfe32-d3cc-41e6-a807-36bc0ed250e0",
   "metadata": {},
   "outputs": [
    {
     "name": "stdout",
     "output_type": "stream",
     "text": [
      "650\n"
     ]
    }
   ],
   "source": [
    "#13. Write a Python program to find the sum of all even numbers between 1 and 50.\n",
    "\n",
    "sum = 0\n",
    "for i in range(1,51):\n",
    "    if i%2==0:\n",
    "        sum += i;\n",
    "print(sum)        \n",
    "        "
   ]
  },
  {
   "cell_type": "code",
   "execution_count": 63,
   "id": "a0ec8341-0ca8-4f1a-9a30-4fb795272cf4",
   "metadata": {},
   "outputs": [
    {
     "name": "stdout",
     "output_type": "stream",
     "text": [
      "ruknA\n"
     ]
    }
   ],
   "source": [
    "#14. Write a program to reverse a string using a while loop.\n",
    "\n",
    "str = 'Ankur'\n",
    "l = len(str)-1\n",
    "rev=''\n",
    "while l>=0 :\n",
    "    rev += str[l]\n",
    "    l -=1\n",
    "    \n",
    "print(rev)    "
   ]
  },
  {
   "cell_type": "code",
   "execution_count": 71,
   "id": "7cf09bf2-51cb-48fd-9808-cd1d68cedca3",
   "metadata": {},
   "outputs": [
    {
     "name": "stdin",
     "output_type": "stream",
     "text": [
      "Enter a number 1\n"
     ]
    },
    {
     "name": "stdout",
     "output_type": "stream",
     "text": [
      "factorial is : 1\n",
      "factorial of number is  1\n"
     ]
    }
   ],
   "source": [
    "#15  Write a Python program to calculate the factorial of a number provided by the user using a while loop.\n",
    "\n",
    "num = int(input('Enter a number'))\n",
    "factorial = 1\n",
    "if(num == 0 | num == 1):\n",
    "    print('factorial is :' , factorial) \n",
    "while num>0 :\n",
    "    factorial *= num;\n",
    "    num -= 1;\n",
    "\n",
    "print('factorial of number is ' , factorial)    \n",
    "    "
   ]
  },
  {
   "cell_type": "code",
   "execution_count": null,
   "id": "3b79408a-b8ec-45f7-95d5-eb5816bfbe5f",
   "metadata": {},
   "outputs": [],
   "source": []
  }
 ],
 "metadata": {
  "kernelspec": {
   "display_name": "Python 3 (ipykernel)",
   "language": "python",
   "name": "python3"
  },
  "language_info": {
   "codemirror_mode": {
    "name": "ipython",
    "version": 3
   },
   "file_extension": ".py",
   "mimetype": "text/x-python",
   "name": "python",
   "nbconvert_exporter": "python",
   "pygments_lexer": "ipython3",
   "version": "3.13.5"
  }
 },
 "nbformat": 4,
 "nbformat_minor": 5
}
