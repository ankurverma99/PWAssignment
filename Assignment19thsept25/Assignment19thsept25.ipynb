{
 "cells": [
  {
   "cell_type": "code",
   "execution_count": 2,
   "id": "802c9473",
   "metadata": {},
   "outputs": [
    {
     "data": {
      "text/plain": [
       "20"
      ]
     },
     "execution_count": 2,
     "metadata": {},
     "output_type": "execute_result"
    }
   ],
   "source": [
    "#Write a Python function that takes a list of numbers as input and returns the sum of all even numbers in the list.\n",
    "\n",
    "def sum_of_Even(l):\n",
    "    return sum([x for x in l if x%2==0])\n",
    "\n",
    "l = [1,2,3,4,5,6,7,8,9]\n",
    "sum_of_Even(l)"
   ]
  },
  {
   "cell_type": "code",
   "execution_count": 3,
   "id": "adbae939",
   "metadata": {},
   "outputs": [
    {
     "data": {
      "text/plain": [
       "'sllikSWP'"
      ]
     },
     "execution_count": 3,
     "metadata": {},
     "output_type": "execute_result"
    }
   ],
   "source": [
    "#Create a Python function that accepts a string and returns the reverse of that string.\n",
    "\n",
    "def reverse_string(st):\n",
    "    return st[::-1]\n",
    "\n",
    "reverse_string(\"PWSkills\")"
   ]
  },
  {
   "cell_type": "code",
   "execution_count": 4,
   "id": "be6d072f",
   "metadata": {},
   "outputs": [
    {
     "data": {
      "text/plain": [
       "[1, 4, 9, 16, 25]"
      ]
     },
     "execution_count": 4,
     "metadata": {},
     "output_type": "execute_result"
    }
   ],
   "source": [
    "#Implement a Python function that takes a list of integers and returns a new list containing the squares of each number.\n",
    "\n",
    "\n",
    "def square_list(l):\n",
    "    return [x**2 for x in l]\n",
    "\n",
    "\n",
    "square_list([1,2,3,4,5])\n"
   ]
  },
  {
   "cell_type": "code",
   "execution_count": 8,
   "id": "16ad6f67",
   "metadata": {},
   "outputs": [
    {
     "name": "stdout",
     "output_type": "stream",
     "text": [
      "[2, 3, 5, 7, 11, 13, 17, 19, 23, 29, 31, 37, 41, 43, 47, 53, 59, 61, 67, 71, 73, 79, 83, 89, 97, 101, 103, 107, 109, 113, 127, 131, 137, 139, 149, 151, 157, 163, 167, 173, 179, 181, 191, 193, 197, 199]\n"
     ]
    }
   ],
   "source": [
    "#Write a Python function that checks if a given number is prime or not from 1 to 200.\n",
    "\n",
    "def check_prime():\n",
    "    is_prime = lambda n: n>1 and all(n%i !=0 for i in range(2,int(n/2+1))) \n",
    "    return [n for n in range(1,200) if is_prime(n)]\n",
    "\n",
    "prime_num = check_prime()\n",
    "print(prime_num)\n",
    "\n"
   ]
  },
  {
   "cell_type": "code",
   "execution_count": 9,
   "id": "965b54b5",
   "metadata": {},
   "outputs": [
    {
     "name": "stdout",
     "output_type": "stream",
     "text": [
      "0\n",
      "1\n",
      "1\n",
      "2\n",
      "3\n",
      "5\n",
      "8\n",
      "13\n",
      "21\n",
      "34\n"
     ]
    }
   ],
   "source": [
    "# Create an iterator class in Python that generates the Fibonacci sequence up to a specified number of terms.\n",
    "\n",
    "def fibo(n):\n",
    "    a = 0\n",
    "    b = 1\n",
    "    for i in range(n):\n",
    "        yield(a)\n",
    "        a,b = b,a+b\n",
    "        \n",
    "fibonachi = fibo(10)       \n",
    "\n",
    "while True:\n",
    "    try:\n",
    "        print(next(fibonachi))\n",
    "    except StopIteration:\n",
    "        break"
   ]
  },
  {
   "cell_type": "code",
   "execution_count": 16,
   "id": "4cdfe3ba",
   "metadata": {},
   "outputs": [
    {
     "name": "stdout",
     "output_type": "stream",
     "text": [
      "1\n",
      "4\n",
      "9\n",
      "16\n"
     ]
    },
    {
     "ename": "StopIteration",
     "evalue": "",
     "output_type": "error",
     "traceback": [
      "\u001b[31m---------------------------------------------------------------------------\u001b[39m",
      "\u001b[31mStopIteration\u001b[39m                             Traceback (most recent call last)",
      "\u001b[36mCell\u001b[39m\u001b[36m \u001b[39m\u001b[32mIn[16]\u001b[39m\u001b[32m, line 12\u001b[39m\n\u001b[32m     10\u001b[39m \u001b[38;5;28mprint\u001b[39m(\u001b[38;5;28mnext\u001b[39m(s))\n\u001b[32m     11\u001b[39m \u001b[38;5;28mprint\u001b[39m(\u001b[38;5;28mnext\u001b[39m(s))\n\u001b[32m---> \u001b[39m\u001b[32m12\u001b[39m \u001b[38;5;28mprint\u001b[39m(\u001b[38;5;28;43mnext\u001b[39;49m\u001b[43m(\u001b[49m\u001b[43ms\u001b[49m\u001b[43m)\u001b[49m)\n",
      "\u001b[31mStopIteration\u001b[39m: "
     ]
    }
   ],
   "source": [
    "#Write a generator function in Python that yields the powers of 2 up to a given exponent.\n",
    "\n",
    "def square(n):\n",
    "    for i in range(1,n):\n",
    "        yield i**2\n",
    "        \n",
    "s = square(5)        \n",
    "print(next(s))\n",
    "print(next(s))\n",
    "print(next(s))\n",
    "print(next(s))\n",
    "print(next(s))"
   ]
  },
  {
   "cell_type": "code",
   "execution_count": null,
   "id": "72cfaf25",
   "metadata": {},
   "outputs": [
    {
     "name": "stdout",
     "output_type": "stream",
     "text": [
      "Python generators are memory efficient and useful for large data\n"
     ]
    }
   ],
   "source": [
    "# Implement a generator function that reads a file line by line and yields each line as a string.\n",
    "\n",
    "def line_generator(multi_line_input):\n",
    "    for line in multi_line_input:\n",
    "        yield line.strip()\n",
    "\n",
    "text = \"\"\"Python generators\n",
    "are memory efficient\n",
    "and useful for large data\"\"\"\n",
    "\n",
    "lines = text.split('\\n')\n",
    "\n",
    "print(' '.join(line_generator(lines)))\n",
    "\n",
    "#Note: Since serialization is a topic that will be covered later, I have used a multiline sentence for this question instead.\n"
   ]
  },
  {
   "cell_type": "code",
   "execution_count": null,
   "id": "ff83f017",
   "metadata": {},
   "outputs": [],
   "source": [
    "#Use a lambda function in Python to sort a list of tuples based on the second element of each tuple.\n",
    "\n",
    "\n",
    "data = [(1, 3), (4, 1), (5, 2), (2, 4)]\n",
    "sorted_data = sorted(data, key=lambda x: x[1])\n",
    "\n",
    "print(sorted_data)\n"
   ]
  },
  {
   "cell_type": "code",
   "execution_count": 22,
   "id": "4cd539a8",
   "metadata": {},
   "outputs": [
    {
     "data": {
      "text/plain": [
       "[84.2, 104.0, 131.0, 140.0]"
      ]
     },
     "execution_count": 22,
     "metadata": {},
     "output_type": "execute_result"
    }
   ],
   "source": [
    "#Write a Python program that uses `map()` to convert a list of temperatures from Celsius to Fahrenheit.\n",
    "\n",
    "def celsiusToFahrenheit(celsius) :\n",
    "    Fahrenheit = (celsius*1.8)+32\n",
    "    return Fahrenheit\n",
    "\n",
    "\n",
    "list(map(celsiusToFahrenheit,[29,40,55,60]))"
   ]
  },
  {
   "cell_type": "code",
   "execution_count": 26,
   "id": "373da97d",
   "metadata": {},
   "outputs": [
    {
     "data": {
      "text/plain": [
       "['n', 'k', 'r']"
      ]
     },
     "execution_count": 26,
     "metadata": {},
     "output_type": "execute_result"
    }
   ],
   "source": [
    "#Create a Python program that uses `filter()` to remove all the vowels from a given string.\n",
    "\n",
    "st = 'anekiuoru'\n",
    "\n",
    "list(filter(lambda s : s not in ['a','e','i','o','u'],st))"
   ]
  },
  {
   "cell_type": "markdown",
   "id": "8678124a",
   "metadata": {},
   "source": [
    "Imagine an accounting routine used in a book shop. It works on a list with sublists, which look like this:\n",
    "\n",
    "\n",
    "Write a Python program, which returns a list with 2-tuples. Each tuple consists of the order number and the\n",
    "product of the price per item and the quantity. The product should be increased by 10,- € if the value of the\n",
    "order is smaller than 100,00 €.\n",
    "\n",
    "Write a Python program using lambda and map."
   ]
  },
  {
   "cell_type": "code",
   "execution_count": 27,
   "id": "414b032d",
   "metadata": {},
   "outputs": [
    {
     "data": {
      "text/plain": [
       "[(34587, 163.8), (98762, 284.0), (77226, 108.85000000000001), (88112, 84.97)]"
      ]
     },
     "execution_count": 27,
     "metadata": {},
     "output_type": "execute_result"
    }
   ],
   "source": [
    "#11 as avobe \n",
    "\n",
    "orders = [\n",
    "    [34587, \"Learning Python, Mark Lutz\", 4, 40.95],\n",
    "    [98762, \"Programming Python, Mark Lutz\", 5, 56.80],\n",
    "    [77226, \"Head First Python, Paul Barry\", 3, 32.95],\n",
    "    [88112, \"Einführung in Python3, Bernd Klein\", 3, 24.99]\n",
    "]\n",
    "\n",
    "res = map(lambda x : (x[0],x[2] * x[3] if x[2]*x[3]> 100 else x[2]*x[3]+10),orders)\n",
    "list(res)"
   ]
  }
 ],
 "metadata": {
  "kernelspec": {
   "display_name": "Python 3",
   "language": "python",
   "name": "python3"
  },
  "language_info": {
   "codemirror_mode": {
    "name": "ipython",
    "version": 3
   },
   "file_extension": ".py",
   "mimetype": "text/x-python",
   "name": "python",
   "nbconvert_exporter": "python",
   "pygments_lexer": "ipython3",
   "version": "3.13.7"
  }
 },
 "nbformat": 4,
 "nbformat_minor": 5
}
