{
 "cells": [
  {
   "cell_type": "code",
   "execution_count": 1,
   "id": "e6ddb718",
   "metadata": {},
   "outputs": [],
   "source": [
    "#How can you open a file for writing in Python and write a string to it\n",
    "\n",
    "file = open(\"assignment.txt\",\"w\")\n",
    "file.write(\"Hello this is my 1st line in the text file\")\n",
    "file.close()"
   ]
  },
  {
   "cell_type": "code",
   "execution_count": 4,
   "id": "edbc3b9e",
   "metadata": {},
   "outputs": [
    {
     "name": "stdout",
     "output_type": "stream",
     "text": [
      "This is my 1st line\n",
      "\n",
      "This is my 2nd line\n",
      "\n",
      "This is my 3rd line\n"
     ]
    }
   ],
   "source": [
    "#Write a Python program to read the contents of a file and print each line\n",
    "\n",
    "file = open(\"file.txt\",\"r\")\n",
    "print(file.read())"
   ]
  },
  {
   "cell_type": "code",
   "execution_count": 6,
   "id": "0726b3b9",
   "metadata": {},
   "outputs": [
    {
     "name": "stdout",
     "output_type": "stream",
     "text": [
      "[Errno 2] No such file or directory: 'assignmentEx.txt'\n"
     ]
    }
   ],
   "source": [
    "#How would you handle a case where the file doesn't exist while trying to open it for reading?\n",
    "try:\n",
    "    file = open(\"assignmentEx.txt\",\"r\")\n",
    "    print(file.read())\n",
    "except FileNotFoundError as e:\n",
    "    print(e)\n",
    "finally:\n",
    "    file.close()    \n",
    "        \n"
   ]
  },
  {
   "cell_type": "code",
   "execution_count": 8,
   "id": "fe922057",
   "metadata": {},
   "outputs": [
    {
     "name": "stdout",
     "output_type": "stream",
     "text": [
      "Execution Done!\n"
     ]
    }
   ],
   "source": [
    "#Write a Python script that reads from one file and writes its content to another file\n",
    "\n",
    "R_file = \"assignment.txt\"\n",
    "w_File = \"assignmentwrite.txt\"\n",
    "def read(filename):\n",
    "    with open(filename,\"r\") as f:\n",
    "        content = f.read()\n",
    "        return content\n",
    "        \n",
    "def write(filename,content):\n",
    "    with open(filename,\"w\") as f:\n",
    "        f.write(content)  \n",
    "        \n",
    "content = read(R_file)\n",
    "write(w_File,content)\n",
    "\n",
    "print(\"Execution Done!\")        "
   ]
  },
  {
   "cell_type": "code",
   "execution_count": 9,
   "id": "ac1255dd",
   "metadata": {},
   "outputs": [
    {
     "name": "stdout",
     "output_type": "stream",
     "text": [
      "Error: Division by zero is not allowed.\n"
     ]
    }
   ],
   "source": [
    "#How would you catch and handle division by zero error in Python\n",
    "\n",
    "try:\n",
    "    result = 10 / 0\n",
    "except ZeroDivisionError:\n",
    "    print(\"Error: Division by zero is not allowed.\")\n"
   ]
  },
  {
   "cell_type": "code",
   "execution_count": null,
   "id": "f45e2bd0",
   "metadata": {},
   "outputs": [
    {
     "name": "stdout",
     "output_type": "stream",
     "text": [
      "Error: Division by zero is not allowed.\n"
     ]
    }
   ],
   "source": [
    "# Write a Python program that logs an error message to a log file when a division by zero exception occurs\n",
    "\n",
    "import logging\n",
    "\n",
    "\n",
    "logging.basicConfig(filename=\"error_log.txt\",  level=logging.ERROR,  format=\"%(asctime)s - %(levelname)s - %(message)s\" )\n",
    "\n",
    "try:\n",
    "    a = int(input(\"Enter numerator: \"))\n",
    "    b = int(input(\"Enter denominator: \"))\n",
    "    result = a / b\n",
    "    print(\"Result:\", result)\n",
    "except ZeroDivisionError:\n",
    "    logging.error(\"Division by zero attempted!\")   # Log the error\n",
    "    print(\"Error: Division by zero is not allowed.\")\n",
    "     \n"
   ]
  },
  {
   "cell_type": "code",
   "execution_count": 18,
   "id": "8193a763",
   "metadata": {},
   "outputs": [],
   "source": [
    "#How do you log information at different levels (INFO, ERROR, WARNING) in Python using the logging module?\n",
    "\n",
    "import logging\n",
    "\n",
    "\n",
    "logging.basicConfig(filename='app_log.txt',level=logging.DEBUG, format='%(asctime)s - %(levelname)s - %(message)s')\n",
    "\n",
    "\n",
    "logging.debug(\"This is a DEBUG message.\")\n",
    "logging.info(\"This is an INFO message.\")\n",
    "logging.warning(\"This is a WARNING message.\")\n",
    "logging.error(\"This is an ERROR message.\")\n",
    "logging.critical(\"This is a CRITICAL message.\")\n",
    "\n"
   ]
  },
  {
   "cell_type": "code",
   "execution_count": null,
   "id": "2521d10c",
   "metadata": {},
   "outputs": [],
   "source": [
    "#Write a program to handle a file opening error using exception handling?\n",
    "try:\n",
    "    # Try to open a file that may not exist\n",
    "    file = open(\"data.txt\", \"r\")\n",
    "    content = file.read()\n",
    "    print(content)\n",
    "    file.close()\n",
    "\n",
    "except FileNotFoundError:\n",
    "    print(\"Error: The file you are trying to open does not exist.\")\n"
   ]
  },
  {
   "cell_type": "code",
   "execution_count": 20,
   "id": "3d00d1a7",
   "metadata": {},
   "outputs": [
    {
     "data": {
      "text/plain": [
       "['This is my 1st line\\n',\n",
       " '\\n',\n",
       " 'This is my 2nd line\\n',\n",
       " '\\n',\n",
       " 'This is my 3rd line']"
      ]
     },
     "execution_count": 20,
     "metadata": {},
     "output_type": "execute_result"
    }
   ],
   "source": [
    "#How can you read a file line by line and store its content in a list in Python?\n",
    "\n",
    "lst = []\n",
    "\n",
    "with open(\"file.txt\",\"r\") as file:\n",
    "    for line in file:\n",
    "        lst.append(line)\n",
    "        \n",
    "lst        \n",
    "\n"
   ]
  },
  {
   "cell_type": "code",
   "execution_count": 23,
   "id": "82a4a3ae",
   "metadata": {},
   "outputs": [],
   "source": [
    "#How can you append data to an existing file in Python?\n",
    "\n",
    "with open('file.txt','a') as file:\n",
    "    file.write(\"\\nAppending file\\n\")\n",
    "    file.write('This is my 4th line')"
   ]
  },
  {
   "cell_type": "code",
   "execution_count": 24,
   "id": "a94edc96",
   "metadata": {},
   "outputs": [
    {
     "name": "stdout",
     "output_type": "stream",
     "text": [
      "Error: That name does not exist in the dictionary.\n"
     ]
    }
   ],
   "source": [
    "#Write a Python program that uses a try-except block to handle an error when attempting to access a dictionary key that doesn't existF\n",
    "\n",
    "\n",
    "scores = {\"Aman\": 95, \"Ankur\": 88, \"Damini\": 76}\n",
    "\n",
    "try:\n",
    "    name = input(\"Enter the student's name: \")\n",
    "    print(\"Score:\", scores[name])\n",
    "    \n",
    "except KeyError:\n",
    "    print(\"Error: That name does not exist in the dictionary.\")\n"
   ]
  },
  {
   "cell_type": "code",
   "execution_count": 27,
   "id": "dc5be29e",
   "metadata": {},
   "outputs": [
    {
     "name": "stdout",
     "output_type": "stream",
     "text": [
      "Error: Please enter only numeric values.\n",
      "Program execution completed.\n"
     ]
    }
   ],
   "source": [
    "# Write a program that demonstrates using multiple except blocks to handle different types of exceptions?\n",
    "\n",
    "try:\n",
    "\n",
    "    num1 = int(input(\"Enter the first number: \"))\n",
    "    num2 = int(input(\"Enter the second number: \"))\n",
    "\n",
    "    result = num1 / num2\n",
    "    print(\"Division result:\", result)\n",
    "\n",
    "except ZeroDivisionError:\n",
    "    print(\"Error: You cannot divide by zero!\")\n",
    "\n",
    "except ValueError:\n",
    "    print(\"Error: Please enter only numeric values.\")\n",
    "\n",
    "except Exception as e:\n",
    "\n",
    "    print(\"An unexpected error occurred:\", e)\n",
    "\n",
    "else:\n",
    "    print(\"Operation successful.\")\n",
    "\n",
    "finally:\n",
    "    print(\"Program execution completed.\")\n"
   ]
  },
  {
   "cell_type": "code",
   "execution_count": 42,
   "id": "179754e1",
   "metadata": {},
   "outputs": [
    {
     "name": "stdout",
     "output_type": "stream",
     "text": [
      "File does not exist.\n"
     ]
    }
   ],
   "source": [
    "#How would you check if a file exists before attempting to read it in Python?\n",
    "\n",
    "import os\n",
    "\n",
    "filename = \"data.txt\"\n",
    "\n",
    "if os.path.exists(filename):\n",
    "    with open(filename, \"r\") as file:\n",
    "        content = file.read()\n",
    "        print(content)\n",
    "else:\n",
    "    print(\"File does not exist.\")\n"
   ]
  },
  {
   "cell_type": "code",
   "execution_count": 30,
   "id": "cb867b32",
   "metadata": {},
   "outputs": [
    {
     "name": "stdout",
     "output_type": "stream",
     "text": [
      "Result: 3.0\n"
     ]
    }
   ],
   "source": [
    "#Write a program that uses the logging module to log both informational and error messages\n",
    "\n",
    "import logging\n",
    "\n",
    "\n",
    "logging.basicConfig(filename=\"app_log.txt\",level=logging.DEBUG,format=\"%(asctime)s - %(levelname)s - %(message)s\")\n",
    "\n",
    "logging.info(\"Program started successfully.\")\n",
    "\n",
    "try:\n",
    "    a = int(input(\"Enter numerator: \"))\n",
    "    b = int(input(\"Enter denominator: \"))\n",
    "    result = a / b\n",
    "    logging.info(f\"Division successful: {a} / {b} = {result}\")\n",
    "    print(\"Result:\", result)\n",
    "\n",
    "except ZeroDivisionError:\n",
    "    logging.error(\"Division by zero attempted!\")\n",
    "    print(\"Error: Division by zero is not allowed.\")\n",
    "\n",
    "except ValueError:\n",
    "    logging.error(\"Invalid input: Non-numeric value entered!\")\n",
    "    print(\"Error: Please enter numeric values.\")\n",
    "\n",
    "finally:\n",
    "    logging.info(\"Program execution finished.\")\n"
   ]
  },
  {
   "cell_type": "code",
   "execution_count": 31,
   "id": "f273917a",
   "metadata": {},
   "outputs": [
    {
     "name": "stdout",
     "output_type": "stream",
     "text": [
      "Error: The file 'example.txt' does not exist.\n"
     ]
    }
   ],
   "source": [
    "#Write a Python program that prints the content of a file and handles the case when the file is empty?\n",
    "\n",
    "filename = \"example.txt\"\n",
    "\n",
    "try:\n",
    "    with open(filename, \"r\") as file:\n",
    "        content = file.read()\n",
    "        if not content:\n",
    "            print(\"The file is empty.\")\n",
    "        else:\n",
    "            print(\"File content:\\n\", content)\n",
    "\n",
    "except FileNotFoundError:\n",
    "    print(f\"Error: The file '{filename}' does not exist.\")\n"
   ]
  },
  {
   "cell_type": "code",
   "execution_count": null,
   "id": "578dc25e",
   "metadata": {},
   "outputs": [],
   "source": [
    "#Demonstrate how to use memory profiling to check the memory usage of a small programF\n",
    "\n",
    "from memory_profiler import profile\n",
    "\n",
    "@profile\n",
    "def create_list(n):\n",
    "    my_list = [i for i in range(n)]\n",
    "    return my_list\n",
    "\n",
    "@profile\n",
    "def main():\n",
    "    print(\"Creating a list of 1 million numbers...\")\n",
    "    large_list = create_list(10**6)\n",
    "    print(\"List created.\")\n",
    "\n",
    "if __name__ == \"__main__\":\n",
    "    main()\n"
   ]
  },
  {
   "cell_type": "code",
   "execution_count": 32,
   "id": "94187f37",
   "metadata": {},
   "outputs": [
    {
     "name": "stdout",
     "output_type": "stream",
     "text": [
      "Numbers have been written to 'numbers.txt'.\n"
     ]
    }
   ],
   "source": [
    "#Write a Python program to create and write a list of numbers to a file, one number per lineF\n",
    "\n",
    "\n",
    "numbers = [10, 20, 30, 40, 50]\n",
    "\n",
    "\n",
    "with open(\"numbers.txt\", \"w\") as file:\n",
    "    for num in numbers:\n",
    "        file.write(f\"{num}\\n\")  \n",
    "\n",
    "print(\"Numbers have been written to 'numbers.txt'.\")\n"
   ]
  },
  {
   "cell_type": "code",
   "execution_count": null,
   "id": "b6052264",
   "metadata": {},
   "outputs": [],
   "source": [
    "#How would you implement a basic logging setup that logs to a file with rotation after 1MB\u001f\n",
    "import logging\n",
    "from logging.handlers import RotatingFileHandler\n",
    "\n",
    "# Create a logger\n",
    "logger = logging.getLogger(\"MyLogger\")\n",
    "logger.setLevel(logging.DEBUG)  # Capture all levels\n",
    "\n",
    "# Create a rotating file handler\n",
    "handler = RotatingFileHandler(\n",
    "    \"app.log\",        # Log file name\n",
    "    maxBytes=1_000_000,  # 1 MB\n",
    "    backupCount=3        # Keep 3 backup files\n",
    ")\n",
    "\n",
    "# Set the log format\n",
    "formatter = logging.Formatter('%(asctime)s - %(levelname)s - %(message)s')\n",
    "handler.setFormatter(formatter)\n",
    "\n",
    "# Add handler to the logger\n",
    "logger.addHandler(handler)\n",
    "\n",
    "# Example log messages\n",
    "logger.info(\"Program started\")\n",
    "logger.warning(\"This is a warning message\")\n",
    "logger.error(\"This is an error message\")\n"
   ]
  },
  {
   "cell_type": "code",
   "execution_count": null,
   "id": "5cdefd69",
   "metadata": {},
   "outputs": [
    {
     "name": "stdout",
     "output_type": "stream",
     "text": [
      "List element: 30\n",
      "Error: The key you entered does not exist in the dictionary.\n",
      "Program execution completed.\n"
     ]
    }
   ],
   "source": [
    "#Write a program that handles both IndexError and KeyError using a try-except blockF\n",
    "\n",
    "my_list = [10, 20, 30]\n",
    "my_dict = {\"Ankur\": 95, \"Aman\": 88}\n",
    "\n",
    "try:\n",
    "    index = int(input(\"Enter a list index (0–2): \"))\n",
    "    print(\"List element:\", my_list[index])\n",
    "\n",
    "    name = input(\"Enter a name (Alice/Bob): \")\n",
    "    print(\"Score:\", my_dict[name])\n",
    "\n",
    "except IndexError:\n",
    "    print(\"Error: The index you entered is out of range!\")\n",
    "\n",
    "except KeyError:\n",
    "    print(\"Error: The key you entered does not exist in the dictionary.\")\n",
    "\n",
    "else:\n",
    "    print(\"Both list and dictionary accessed successfully.\")\n",
    "\n",
    "finally:\n",
    "    print(\"Program execution completed.\")\n"
   ]
  },
  {
   "cell_type": "code",
   "execution_count": 37,
   "id": "12d46c3d",
   "metadata": {},
   "outputs": [
    {
     "name": "stdout",
     "output_type": "stream",
     "text": [
      "Hello this is my 1st line in the text file\n"
     ]
    }
   ],
   "source": [
    "#How would you open a file and read its contents using a context manager in Python?\n",
    "\n",
    "filename = \"assignment.txt\"\n",
    "\n",
    "with open(filename, \"r\") as file:\n",
    "    content = file.read()  \n",
    "    print(content)\n"
   ]
  },
  {
   "cell_type": "code",
   "execution_count": 38,
   "id": "a4e058ce",
   "metadata": {},
   "outputs": [
    {
     "name": "stdout",
     "output_type": "stream",
     "text": [
      "The word 'ERROR' occurs 16 times in the file.\n"
     ]
    }
   ],
   "source": [
    "#Write a Python program that reads a file and prints the number of occurrences of a specific word\n",
    "\n",
    "\n",
    "filename = \"error_log.txt\"\n",
    "\n",
    "word_to_count = input(\"Enter the word to count: \")\n",
    "\n",
    "try:\n",
    "    with open(filename, \"r\") as file:\n",
    "        content = file.read()\n",
    "        count = content.lower().count(word_to_count.lower())\n",
    "        print(f\"The word '{word_to_count}' occurs {count} times in the file.\")\n",
    "\n",
    "except FileNotFoundError:\n",
    "    print(f\"Error: The file '{filename}' does not exist.\")\n"
   ]
  },
  {
   "cell_type": "code",
   "execution_count": 40,
   "id": "62329f9b",
   "metadata": {},
   "outputs": [
    {
     "name": "stdout",
     "output_type": "stream",
     "text": [
      "2025-10-13 23:45:04,020 - ERROR - Division by zero attempted!\n",
      "2025-10-13 23:47:28,299 - ERROR - This is an ERROR message.\n",
      "2025-10-13 23:47:28,300 - CRITICAL - This is a CRITICAL message.\n",
      "2025-10-13 23:51:55,606 - ERROR - This is an ERROR message.\n",
      "2025-10-13 23:51:55,607 - CRITICAL - This is a CRITICAL message.\n",
      "2025-10-13 23:53:02,826 - ERROR - This is an ERROR message.\n",
      "2025-10-13 23:53:02,826 - CRITICAL - This is a CRITICAL message.\n",
      "2025-10-13 23:54:15,193 - ERROR - This is an ERROR message.\n",
      "2025-10-13 23:54:15,193 - CRITICAL - This is a CRITICAL message.\n",
      "2025-10-13 23:54:24,927 - ERROR - This is an ERROR message.\n",
      "2025-10-13 23:54:24,927 - CRITICAL - This is a CRITICAL message.\n",
      "2025-10-13 23:58:30,724 - ERROR - Division by zero attempted!\n",
      "2025-10-13 23:58:34,664 - ERROR - This is an ERROR message.\n",
      "2025-10-13 23:58:34,665 - CRITICAL - This is a CRITICAL message.\n",
      "2025-10-14 00:19:43,662 - INFO - Program started\n",
      "2025-10-14 00:19:43,675 - WARNING - This is a warning message\n",
      "2025-10-14 00:19:43,675 - ERROR - This is an error message\n",
      "\n"
     ]
    }
   ],
   "source": [
    "#How can you check if a file is empty before attempting to read its contents?\n",
    "\n",
    "import os\n",
    "\n",
    "filename = \"error_log.txt\"\n",
    "\n",
    "if os.stat(filename).st_size == 0:\n",
    "    print(\"The file is empty.\")\n",
    "else:\n",
    "    with open(filename, \"r\") as file:\n",
    "        content = file.read()\n",
    "        print(content)\n"
   ]
  },
  {
   "cell_type": "code",
   "execution_count": 41,
   "id": "62bafd90",
   "metadata": {},
   "outputs": [
    {
     "name": "stdout",
     "output_type": "stream",
     "text": [
      "Error: The file 'example.txt' was not found.\n",
      "File handling attempt finished.\n"
     ]
    }
   ],
   "source": [
    "#Write a Python program that writes to a log file when an error occurs during file handling.\n",
    "import logging\n",
    "\n",
    "logging.basicConfig(\n",
    "    filename=\"file_error_log.txt\",\n",
    "    level=logging.ERROR, \n",
    "    format=\"%(asctime)s - %(levelname)s - %(message)s\"\n",
    ")\n",
    "\n",
    "filename = \"example.txt\"\n",
    "\n",
    "try:\n",
    "\n",
    "    with open(filename, \"r\") as file:\n",
    "        content = file.read()\n",
    "        print(content)\n",
    "\n",
    "except FileNotFoundError:\n",
    "    error_msg = f\"The file '{filename}' was not found.\"\n",
    "    print(\"Error:\", error_msg)\n",
    "    logging.error(error_msg)\n",
    "\n",
    "except PermissionError:\n",
    "    error_msg = f\"No permission to read the file '{filename}'.\"\n",
    "    print(\"Error:\", error_msg)\n",
    "    logging.error(error_msg)\n",
    "\n",
    "except Exception as e:\n",
    "    error_msg = f\"An unexpected error occurred: {e}\"\n",
    "    print(\"Error:\", error_msg)\n",
    "    logging.error(error_msg)\n",
    "\n",
    "finally:\n",
    "    print(\"File handling attempt finished.\")\n"
   ]
  }
 ],
 "metadata": {
  "kernelspec": {
   "display_name": "Python 3",
   "language": "python",
   "name": "python3"
  },
  "language_info": {
   "codemirror_mode": {
    "name": "ipython",
    "version": 3
   },
   "file_extension": ".py",
   "mimetype": "text/x-python",
   "name": "python",
   "nbconvert_exporter": "python",
   "pygments_lexer": "ipython3",
   "version": "3.13.7"
  }
 },
 "nbformat": 4,
 "nbformat_minor": 5
}
